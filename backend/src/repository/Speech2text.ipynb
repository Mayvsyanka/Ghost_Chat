{
 "cells": [
  {
   "cell_type": "code",
   "execution_count": 1,
   "metadata": {},
   "outputs": [
    {
     "name": "stderr",
     "output_type": "stream",
     "text": [
      "c:\\Users\\user\\AppData\\Local\\Programs\\Python\\Python311\\Lib\\site-packages\\tqdm\\auto.py:21: TqdmWarning: IProgress not found. Please update jupyter and ipywidgets. See https://ipywidgets.readthedocs.io/en/stable/user_install.html\n",
      "  from .autonotebook import tqdm as notebook_tqdm\n"
     ]
    }
   ],
   "source": [
    "import torch\n",
    "import librosa\n",
    "from transformers import SpeechT5Processor, SpeechT5ForSpeechToText\n",
    "from transformers import Wav2Vec2Processor, Wav2Vec2ForCTC\n",
    "from datasets import load_dataset\n",
    "import torch\n",
    "import tensorflow as tf\n",
    "from transformers import Speech2TextProcessor, TFSpeech2TextForConditionalGeneration\n",
    "from datasets import load_dataset\n",
    "import soundfile as sf\n"
   ]
  },
  {
   "cell_type": "code",
   "execution_count": 4,
   "metadata": {},
   "outputs": [
    {
     "name": "stderr",
     "output_type": "stream",
     "text": [
      "Some weights of the model checkpoint at microsoft/speecht5_asr were not used when initializing SpeechT5ForSpeechToText: ['speecht5.encoder.prenet.pos_conv_embed.conv.weight_v', 'speecht5.encoder.prenet.pos_conv_embed.conv.weight_g']\n",
      "- This IS expected if you are initializing SpeechT5ForSpeechToText from the checkpoint of a model trained on another task or with another architecture (e.g. initializing a BertForSequenceClassification model from a BertForPreTraining model).\n",
      "- This IS NOT expected if you are initializing SpeechT5ForSpeechToText from the checkpoint of a model that you expect to be exactly identical (initializing a BertForSequenceClassification model from a BertForSequenceClassification model).\n",
      "Some weights of SpeechT5ForSpeechToText were not initialized from the model checkpoint at microsoft/speecht5_asr and are newly initialized: ['speecht5.encoder.prenet.pos_conv_embed.conv.parametrizations.weight.original0', 'speecht5.encoder.prenet.pos_sinusoidal_embed.weights', 'speecht5.encoder.prenet.pos_conv_embed.conv.parametrizations.weight.original1']\n",
      "You should probably TRAIN this model on a down-stream task to be able to use it for predictions and inference.\n"
     ]
    },
    {
     "name": "stdout",
     "output_type": "stream",
     "text": [
      "it is time for lunch i am hungry i want to eat a ham burglar i don't want to eat stake i am thirsty i want to drink water i don't want to drink hot chocolate i don't want to drink hot chocolate i am hungry\n"
     ]
    }
   ],
   "source": [
    "file_path = \"C:\\\\Projects\\\\sand\\\\p2_stories_2a.mp3\"\n",
    "\n",
    "\n",
    "def speech2text(file_path):\n",
    "\n",
    "    waveform, original_sample_rate = librosa.load(\n",
    "        file_path, sr=None, mono=True)\n",
    "\n",
    "    expected_sample_rate = 16000\n",
    "\n",
    "\n",
    "    if original_sample_rate != expected_sample_rate:\n",
    "        waveform = librosa.resample(\n",
    "            waveform, orig_sr=original_sample_rate, target_sr=expected_sample_rate)\n",
    "\n",
    "\n",
    "    processor = SpeechT5Processor.from_pretrained(\"microsoft/speecht5_asr\")\n",
    "    model = SpeechT5ForSpeechToText.from_pretrained(\n",
    "        \"microsoft/speecht5_asr\")\n",
    "\n",
    "\n",
    "    inputs = processor(audio=waveform.tolist(),\n",
    "                       sampling_rate=expected_sample_rate, return_tensors=\"pt\")\n",
    "    predicted_ids = model.generate(**inputs, max_length=1000)\n",
    "\n",
    "\n",
    "    transcription = processor.batch_decode(\n",
    "        predicted_ids, skip_special_tokens=True)\n",
    "    return (transcription[0])\n",
    "\n",
    "print(speech2text(file_path))"
   ]
  },
  {
   "cell_type": "code",
   "execution_count": null,
   "metadata": {},
   "outputs": [],
   "source": []
  },
  {
   "cell_type": "code",
   "execution_count": null,
   "metadata": {},
   "outputs": [],
   "source": []
  }
 ],
 "metadata": {
  "kernelspec": {
   "display_name": "Python 3.11.0 64-bit",
   "language": "python",
   "name": "python3"
  },
  "language_info": {
   "codemirror_mode": {
    "name": "ipython",
    "version": 3
   },
   "file_extension": ".py",
   "mimetype": "text/x-python",
   "name": "python",
   "nbconvert_exporter": "python",
   "pygments_lexer": "ipython3",
   "version": "3.11.0"
  },
  "orig_nbformat": 4,
  "vscode": {
   "interpreter": {
    "hash": "de47f5c92c0ee6f12a59a5613ac5feff6aab19ddff207ba0b3964cced08c4ccc"
   }
  }
 },
 "nbformat": 4,
 "nbformat_minor": 2
}
