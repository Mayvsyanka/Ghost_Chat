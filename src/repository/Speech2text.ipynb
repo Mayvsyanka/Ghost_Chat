{
 "cells": [
  {
   "cell_type": "code",
   "execution_count": null,
   "metadata": {},
   "outputs": [],
   "source": [
    "import librosa\n",
    "from transformers import SpeechT5Processor, SpeechT5ForSpeechToText\n",
    "\n",
    "\n",
    "async def speech2text(file_path):\n",
    "\n",
    "    waveform, original_sample_rate = librosa.load(\n",
    "        file_path, sr=None, mono=True)\n",
    "\n",
    "    expected_sample_rate = 16000\n",
    "\n",
    "\n",
    "    if original_sample_rate != expected_sample_rate:\n",
    "        waveform = librosa.resample(\n",
    "            waveform, orig_sr=original_sample_rate, target_sr=expected_sample_rate)\n",
    "\n",
    "\n",
    "    processor = SpeechT5Processor.from_pretrained(\"microsoft/speecht5_asr\")\n",
    "    model = SpeechT5ForSpeechToText.from_pretrained(\"microsoft/speecht5_asr\")\n",
    "\n",
    "\n",
    "    inputs = processor(audio=waveform.tolist(),\n",
    "                       sampling_rate=expected_sample_rate, return_tensors=\"pt\")\n",
    "    predicted_ids = model.generate(**inputs, max_length=1000)\n",
    "\n",
    "\n",
    "    transcription = processor.batch_decode(\n",
    "        predicted_ids, skip_special_tokens=True)\n",
    "    return (transcription[0])\n"
   ]
  }
 ],
 "metadata": {
  "kernelspec": {
   "display_name": "Python 3.11.0 64-bit",
   "language": "python",
   "name": "python3"
  },
  "language_info": {
   "name": "python",
   "version": "3.11.0"
  },
  "orig_nbformat": 4,
  "vscode": {
   "interpreter": {
    "hash": "de47f5c92c0ee6f12a59a5613ac5feff6aab19ddff207ba0b3964cced08c4ccc"
   }
  }
 },
 "nbformat": 4,
 "nbformat_minor": 2
}
